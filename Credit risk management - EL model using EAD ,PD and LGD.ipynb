{
 "cells": [
  {
   "cell_type": "markdown",
   "metadata": {},
   "source": [
    "# Problem statement:\n",
    "Suppose that we have purchased bonds of 'Apple' worth 200000 dollars and have given a committment to the company worth another 200000. We need to calculate the expected loss of this portfolio now. \n",
    "\n",
    "Summary:\n",
    "\n",
    "Outstanding(Bond) = 200000 dollars <br/>\n",
    "Committment(Future) = 200000 dollars"
   ]
  },
  {
   "cell_type": "markdown",
   "metadata": {},
   "source": [
    "### Some background theory\n",
    "#### We know the following equation for Expected loss of a portfolio :\n",
    "Expected loss(EL) = Exposure at default(EAD) x Probability of default(PD) x Loss given default(LGD)\n",
    "\n",
    "Hence we need to find each of the three elements EAD, PD and LGD using different models in order to calculated our EL"
   ]
  },
  {
   "cell_type": "markdown",
   "metadata": {},
   "source": [
    "## PREPROCESSING: First of all, let us fetch the balance sheet data from the API "
   ]
  },
  {
   "cell_type": "code",
   "execution_count": 80,
   "metadata": {},
   "outputs": [
    {
     "data": {
      "text/plain": [
       "'https://financialmodelingprep.com/api/v3/financials/balance-sheet-statement/AAPL?period=quarter&datatype=csv&apikey=b351ae3cf257107a6016db549ff6cfc0'"
      ]
     },
     "execution_count": 80,
     "metadata": {},
     "output_type": "execute_result"
    }
   ],
   "source": [
    "# Import libraries and build the API url\n",
    "try:\n",
    "    from urllib.request import urlopen\n",
    "except ImportError:\n",
    "    from urllib2 import urlopen\n",
    "\n",
    "import json\n",
    "\n",
    "key = '<enter your API key here>'\n",
    "\n",
    "url = 'https://financialmodelingprep.com/api/v3/financials/balance-sheet-statement/APPL?period=quarter&datatype=csv&apikey={}'.format(key)\n",
    "\n",
    "url"
   ]
  },
  {
   "cell_type": "code",
   "execution_count": 81,
   "metadata": {},
   "outputs": [],
   "source": [
    "# Function to fetch the data as a JSON file\n",
    "def get_jsonparsed_data(url):\n",
    "    response = urlopen(url)\n",
    "    data = response.read().decode(\"utf-8\")\n",
    "    return json.loads(data)\n",
    "\n",
    "url = (url)\n",
    "data = get_jsonparsed_data(url)"
   ]
  },
  {
   "cell_type": "code",
   "execution_count": 82,
   "metadata": {},
   "outputs": [
    {
     "data": {
      "text/plain": [
       "'2019-12-28'"
      ]
     },
     "execution_count": 82,
     "metadata": {},
     "output_type": "execute_result"
    }
   ],
   "source": [
    "# Check the JSON file structure\n",
    "import pandas as pd\n",
    "df = pd.DataFrame(columns = list(data['financials'][0]))\n",
    "data['financials'][1]['date']"
   ]
  },
  {
   "cell_type": "code",
   "execution_count": 100,
   "metadata": {},
   "outputs": [
    {
     "data": {
      "text/plain": [
       "{'date': '2020-03-28',\n",
       " 'Cash and cash equivalents': '40174000000.0',\n",
       " 'Short-term investments': '53877000000.0',\n",
       " 'Cash and short-term investments': '94051000000.0',\n",
       " 'Receivables': '15722000000.0',\n",
       " 'Inventories': '3334000000.0',\n",
       " 'Total current assets': '1.43753e+11',\n",
       " 'Property, Plant & Equipment Net': '35889000000.0',\n",
       " 'Goodwill and Intangible Assets': '0.0',\n",
       " 'Long-term investments': '98793000000.0',\n",
       " 'Tax assets': '0.0',\n",
       " 'Total non-current assets': '1.76647e+11',\n",
       " 'Total assets': '3.204e+11',\n",
       " 'Payables': '32421000000.0',\n",
       " 'Short-term debt': '10392000000.0',\n",
       " 'Total current liabilities': '96094000000.0',\n",
       " 'Long-term debt': '89086000000.0',\n",
       " 'Total debt': '99478000000.0',\n",
       " 'Deferred revenue': '5928000000.0',\n",
       " 'Tax Liabilities': '0.0',\n",
       " 'Deposit Liabilities': '0.0',\n",
       " 'Total non-current liabilities': '1.45881e+11',\n",
       " 'Total liabilities': '2.41975e+11',\n",
       " 'Other comprehensive income': '43708013000',\n",
       " 'Retained earnings (deficit)': '33182000000.0',\n",
       " 'Total shareholders equity': '78425000000.0',\n",
       " 'Investments': '1.5267e+11',\n",
       " 'Net Debt': '59304000000.0',\n",
       " 'Other Assets': '0.0',\n",
       " 'Other Liabilities': '0.0'}"
      ]
     },
     "execution_count": 100,
     "metadata": {},
     "output_type": "execute_result"
    }
   ],
   "source": [
    "data['financials'][0]"
   ]
  },
  {
   "cell_type": "code",
   "execution_count": 84,
   "metadata": {},
   "outputs": [],
   "source": [
    "# Build the balance sheet data as a dataframe\n",
    "df['date'] = [data['financials'][i]['date'] for i in range(len(data['financials']))]\n",
    "df['Total current assets'] = [data['financials'][i]['Total current assets'] for i in range(len(data['financials']))]\n",
    "df['Total liabilities'] = [data['financials'][i]['Total liabilities'] for i in range(len(data['financials']))]\n",
    "df['Total non-current assets'] = [data['financials'][i]['Total non-current assets'] for i in range(len(data['financials']))]                                                       \n",
    "df['Total assets'] = [data['financials'][i]['Total assets'] for i in range(len(data['financials']))]\n",
    "df['Total current liabilities'] = [data['financials'][i]['Total current liabilities'] for i in range(len(data['financials']))]\n",
    "df['Total liabilities'] = [data['financials'][i]['Total liabilities'] for i in range(len(data['financials']))]\n",
    "df['Total current liabilities'] = [data['financials'][i]['Total current liabilities'] for i in range(len(data['financials']))]\n",
    "df['Total non-current liabilities'] = [data['financials'][i]['Total non-current liabilities'] for i in range(len(data['financials']))]\n",
    "                                                        "
   ]
  },
  {
   "cell_type": "code",
   "execution_count": 85,
   "metadata": {},
   "outputs": [],
   "source": [
    "# Save the dataframe as a csv file for further use\n",
    "df = df.dropna(axis=1)\n",
    "df.to_csv('C:/Users/Manik Hindwan/Documents/Manik_Personal/Lockdown - Quarantine/Business/Domain Knowledge/Finance/Risk modelling/model_data.csv'\n",
    "          , index = False\n",
    "          ,encoding='utf-8')"
   ]
  },
  {
   "cell_type": "markdown",
   "metadata": {},
   "source": [
    "## EAD MODEL: Internal credit risk model by Michael Ong"
   ]
  },
  {
   "cell_type": "code",
   "execution_count": 86,
   "metadata": {},
   "outputs": [
    {
     "data": {
      "text/html": [
       "<div>\n",
       "<style scoped>\n",
       "    .dataframe tbody tr th:only-of-type {\n",
       "        vertical-align: middle;\n",
       "    }\n",
       "\n",
       "    .dataframe tbody tr th {\n",
       "        vertical-align: top;\n",
       "    }\n",
       "\n",
       "    .dataframe thead th {\n",
       "        text-align: right;\n",
       "    }\n",
       "</style>\n",
       "<table border=\"1\" class=\"dataframe\">\n",
       "  <thead>\n",
       "    <tr style=\"text-align: right;\">\n",
       "      <th></th>\n",
       "      <th>date</th>\n",
       "      <th>Total current assets</th>\n",
       "      <th>Total non-current assets</th>\n",
       "      <th>Total assets</th>\n",
       "      <th>Total current liabilities</th>\n",
       "      <th>Total non-current liabilities</th>\n",
       "      <th>Total liabilities</th>\n",
       "    </tr>\n",
       "  </thead>\n",
       "  <tbody>\n",
       "    <tr>\n",
       "      <th>0</th>\n",
       "      <td>2020-03-28</td>\n",
       "      <td>1.437530e+11</td>\n",
       "      <td>1.766470e+11</td>\n",
       "      <td>3.204000e+11</td>\n",
       "      <td>9.609400e+10</td>\n",
       "      <td>1.458810e+11</td>\n",
       "      <td>2.419750e+11</td>\n",
       "    </tr>\n",
       "    <tr>\n",
       "      <th>1</th>\n",
       "      <td>2019-12-28</td>\n",
       "      <td>1.632310e+11</td>\n",
       "      <td>1.773870e+11</td>\n",
       "      <td>3.406180e+11</td>\n",
       "      <td>1.021610e+11</td>\n",
       "      <td>1.489260e+11</td>\n",
       "      <td>2.510870e+11</td>\n",
       "    </tr>\n",
       "    <tr>\n",
       "      <th>2</th>\n",
       "      <td>2019-09-28</td>\n",
       "      <td>1.628190e+11</td>\n",
       "      <td>1.756970e+11</td>\n",
       "      <td>3.385160e+11</td>\n",
       "      <td>1.057180e+11</td>\n",
       "      <td>1.423100e+11</td>\n",
       "      <td>2.480280e+11</td>\n",
       "    </tr>\n",
       "    <tr>\n",
       "      <th>3</th>\n",
       "      <td>2019-06-29</td>\n",
       "      <td>1.349730e+11</td>\n",
       "      <td>1.872660e+11</td>\n",
       "      <td>3.222390e+11</td>\n",
       "      <td>8.970400e+10</td>\n",
       "      <td>1.360790e+11</td>\n",
       "      <td>2.257830e+11</td>\n",
       "    </tr>\n",
       "    <tr>\n",
       "      <th>4</th>\n",
       "      <td>2019-03-30</td>\n",
       "      <td>1.233460e+11</td>\n",
       "      <td>2.186520e+11</td>\n",
       "      <td>3.419980e+11</td>\n",
       "      <td>9.377200e+10</td>\n",
       "      <td>1.423660e+11</td>\n",
       "      <td>2.361380e+11</td>\n",
       "    </tr>\n",
       "  </tbody>\n",
       "</table>\n",
       "</div>"
      ],
      "text/plain": [
       "         date  Total current assets  Total non-current assets  Total assets  \\\n",
       "0  2020-03-28          1.437530e+11              1.766470e+11  3.204000e+11   \n",
       "1  2019-12-28          1.632310e+11              1.773870e+11  3.406180e+11   \n",
       "2  2019-09-28          1.628190e+11              1.756970e+11  3.385160e+11   \n",
       "3  2019-06-29          1.349730e+11              1.872660e+11  3.222390e+11   \n",
       "4  2019-03-30          1.233460e+11              2.186520e+11  3.419980e+11   \n",
       "\n",
       "   Total current liabilities  Total non-current liabilities  Total liabilities  \n",
       "0               9.609400e+10                   1.458810e+11       2.419750e+11  \n",
       "1               1.021610e+11                   1.489260e+11       2.510870e+11  \n",
       "2               1.057180e+11                   1.423100e+11       2.480280e+11  \n",
       "3               8.970400e+10                   1.360790e+11       2.257830e+11  \n",
       "4               9.377200e+10                   1.423660e+11       2.361380e+11  "
      ]
     },
     "execution_count": 86,
     "metadata": {},
     "output_type": "execute_result"
    }
   ],
   "source": [
    "# Reading the saved balance sheet data\n",
    "df = pd.read_csv('./model_data.csv')\n",
    "df.head()"
   ]
  },
  {
   "cell_type": "markdown",
   "metadata": {},
   "source": [
    "#### Exposure at default comprises of two non risk-averse parts:\n",
    "1. Outstanding (Bonds)\n",
    "2. Committment x Usage given default\n",
    "\n",
    "Hence we would need to first calculate the Usage given default(UGD)"
   ]
  },
  {
   "cell_type": "markdown",
   "metadata": {},
   "source": [
    "Upon checking Apple's website, we find that the credit rating for the company is AA+ which accounts for 73% of UGD"
   ]
  },
  {
   "cell_type": "code",
   "execution_count": 87,
   "metadata": {},
   "outputs": [
    {
     "name": "stdout",
     "output_type": "stream",
     "text": [
      "The exposure at default(EAD) is: 346000.0\n"
     ]
    }
   ],
   "source": [
    "# Let us assign the necessary variables\n",
    "bond = 200000\n",
    "comt = 200000\n",
    "ugd = 0.73\n",
    "\n",
    "ead = bond + (ugd*comt)\n",
    "print(\"The exposure at default(EAD) is:\", ead)"
   ]
  },
  {
   "cell_type": "markdown",
   "metadata": {},
   "source": [
    "## PD MODEL: Merton Structural model"
   ]
  },
  {
   "cell_type": "code",
   "execution_count": 88,
   "metadata": {},
   "outputs": [],
   "source": [
    "# Let us create a new column which we can use for plotting\n",
    "import numpy as np\n",
    "df['quarterspan'] = [i/4+0.25 for i in range(len(df))]\n",
    "df['quarterspan'] = df[['quarterspan']].shift(1)\n",
    "df['quarterspan'] = df['quarterspan'].replace(np.NaN,0)"
   ]
  },
  {
   "cell_type": "code",
   "execution_count": 90,
   "metadata": {},
   "outputs": [
    {
     "data": {
      "image/png": "[encoded data removed]",
      "text/plain": [
       "<Figure size 1224x360 with 2 Axes>"
      ]
     },
     "metadata": {},
     "output_type": "display_data"
    }
   ],
   "source": [
    "# Let us plot the assets and liabilities per quarter to see the trend\n",
    "import matplotlib.pyplot as plt\n",
    "%matplotlib inline\n",
    "import matplotlib as mpl\n",
    "fig = plt.figure()\n",
    "\n",
    "ax0 = fig.add_subplot(1,2,1)\n",
    "ax1 = fig.add_subplot(1,2,2)\n",
    "ax0.set_title(\"Asset value plotted with quarters\")\n",
    "ax1.set_title(\"Liabilities plotted with quarters\")\n",
    "\n",
    "df.plot(kind = 'line', x = 'quarterspan', y = ['Total assets','Total current assets','Total non-current assets'], ax=ax0, \n",
    "       figsize = (17,5))\n",
    "df.plot(kind = 'line', x = 'quarterspan', y = ['Total liabilities','Total current liabilities','Total non-current liabilities'],\n",
    "        figsize = (17,5),ax=ax1)\n",
    "plt.show()"
   ]
  },
  {
   "cell_type": "markdown",
   "metadata": {},
   "source": [
    "We will now proceed to assign and calculate the values which will be used in the merton structural model calculations"
   ]
  },
  {
   "cell_type": "code",
   "execution_count": 102,
   "metadata": {},
   "outputs": [
    {
     "name": "stdout",
     "output_type": "stream",
     "text": [
      "The firm value is 320400000000.0 and the rate of interest is 6.25% and the volatility according to asset levels is 46.79%\n"
     ]
    }
   ],
   "source": [
    "# Calculating some essential measures for the model\n",
    "firm_value = df[['Total assets']].iloc[0,0]\n",
    "rate = 6.25/100\n",
    "time = 1\n",
    "volatility =  df['Total assets'].std(ddof=1) / df['Total assets'].mean()\n",
    "print(\"The firm value is {} and the rate of interest is {}% and the volatility according \\\n",
    "to asset levels is {}%\".format(firm_value, rate*100, round(volatility * 100, 2)))"
   ]
  },
  {
   "cell_type": "code",
   "execution_count": 103,
   "metadata": {},
   "outputs": [
    {
     "name": "stdout",
     "output_type": "stream",
     "text": [
      "If the company's total assets hit 192518000000.0 , it will default\n"
     ]
    }
   ],
   "source": [
    "stl = max(df['Total current liabilities'])\n",
    "ltl = max(df['Total non-current liabilities'])\n",
    "default_pt = stl + (0.5*ltl)\n",
    "print(\"If the company's total assets hit {} , it will default\".format(default_pt))"
   ]
  },
  {
   "cell_type": "code",
   "execution_count": 104,
   "metadata": {},
   "outputs": [
    {
     "data": {
      "text/plain": [
       "Index(['date', 'Total current assets', 'Total non-current assets',\n",
       "       'Total assets', 'Total current liabilities',\n",
       "       'Total non-current liabilities', 'Total liabilities', 'quarterspan'],\n",
       "      dtype='object')"
      ]
     },
     "execution_count": 104,
     "metadata": {},
     "output_type": "execute_result"
    }
   ],
   "source": [
    "df.columns"
   ]
  },
  {
   "cell_type": "markdown",
   "metadata": {},
   "source": [
    "Now we will calculate the distance to default"
   ]
  },
  {
   "cell_type": "code",
   "execution_count": 105,
   "metadata": {},
   "outputs": [
    {
     "name": "stdout",
     "output_type": "stream",
     "text": [
      "The probability of default(PD) as per the Merton structural model is 16.15%\n"
     ]
    }
   ],
   "source": [
    "import math\n",
    "numerator = math.log(firm_value/default_pt) + ((rate - np.power(volatility,2)/2)*time)\n",
    "denominator = volatility*time\n",
    "dd = numerator/denominator\n",
    "from scipy.stats import norm\n",
    "PD = norm.cdf(-dd)\n",
    "print(\"The probability of default(PD) as per the Merton structural model is {}%\".format(round(100* PD,2)))"
   ]
  },
  {
   "cell_type": "markdown",
   "metadata": {},
   "source": [
    "## LGD MODEL: Gamma distribution"
   ]
  },
  {
   "cell_type": "markdown",
   "metadata": {},
   "source": [
    "According to Moody's ultimate recovery database, for bonds the LGD mean is around 56.37% and the standard error is 1.04%\n",
    "\n",
    "We also learned from an article from Moody's that the maximum value of the distribution for a bond is set to 1.1"
   ]
  },
  {
   "cell_type": "code",
   "execution_count": 122,
   "metadata": {},
   "outputs": [
    {
     "name": "stdout",
     "output_type": "stream",
     "text": [
      "The alpha is 1301.61 and the beta value is 1238.34\n"
     ]
    }
   ],
   "source": [
    "# Calculating the alpha and beta values of the beta distribution \n",
    "mu = 0.5637\n",
    "dev = 0.0104\n",
    "maxm = 1.1\n",
    "\n",
    "alpha = mu/maxm * (mu*(maxm - mu)/(maxm * np.power(dev,2))-1)\n",
    "beta = alpha*(maxm/mu-1)\n",
    "print(\"The alpha is {} and the beta value is {}\".format(round(alpha,2),round(beta,2)))"
   ]
  },
  {
   "cell_type": "code",
   "execution_count": 128,
   "metadata": {},
   "outputs": [
    {
     "name": "stdout",
     "output_type": "stream",
     "text": [
      "The loss given default(LGD) is 48.75%\n"
     ]
    }
   ],
   "source": [
    "# Calculating the LGD ( LGD = 1 -mean_recovery)\n",
    "mean_recovery = alpha/(alpha+beta)\n",
    "LGD = 1-mean_recovery\n",
    "print(\"The loss given default(LGD) is {}%\".format(round(100*LGD,2)))"
   ]
  },
  {
   "cell_type": "markdown",
   "metadata": {},
   "source": [
    "## CALCULATING EXPECTED LOSS"
   ]
  },
  {
   "cell_type": "markdown",
   "metadata": {},
   "source": [
    "Expected loss(EL) = EAD x PD x LGD"
   ]
  },
  {
   "cell_type": "code",
   "execution_count": 130,
   "metadata": {},
   "outputs": [
    {
     "name": "stdout",
     "output_type": "stream",
     "text": [
      "The expected loss of our portfolio is $27250.42\n"
     ]
    }
   ],
   "source": [
    "print(\"The expected loss of our portfolio is ${}\".format(round(ead*PD*LGD,2)))"
   ]
  }
 ],
 "metadata": {
  "kernelspec": {
   "display_name": "Python 3",
   "language": "python",
   "name": "python3"
  },
  "language_info": {
   "codemirror_mode": {
    "name": "ipython",
    "version": 3
   },
   "file_extension": ".py",
   "mimetype": "text/x-python",
   "name": "python",
   "nbconvert_exporter": "python",
   "pygments_lexer": "ipython3",
   "version": "3.6.5"
  }
 },
 "nbformat": 4,
 "nbformat_minor": 2
}
